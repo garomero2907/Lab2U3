{
 "cells": [
  {
   "cell_type": "code",
   "execution_count": 1,
   "id": "a8d1afbd",
   "metadata": {},
   "outputs": [],
   "source": [
    "import pandas as pd\n",
    "import numpy as np\n",
    "from sklearn.model_selection import train_test_split\n",
    "from sklearn import linear_model\n",
    "from sklearn import model_selection\n",
    "from sklearn.tree import DecisionTreeClassifier\n",
    "from six import StringIO\n",
    "from IPython.display import Image  \n",
    "import graphviz\n",
    "import pydotplus\n",
    "from sklearn import metrics\n"
   ]
  },
  {
   "cell_type": "code",
   "execution_count": 2,
   "id": "222b2f7f",
   "metadata": {},
   "outputs": [
    {
     "data": {
      "text/html": [
       "<div>\n",
       "<style scoped>\n",
       "    .dataframe tbody tr th:only-of-type {\n",
       "        vertical-align: middle;\n",
       "    }\n",
       "\n",
       "    .dataframe tbody tr th {\n",
       "        vertical-align: top;\n",
       "    }\n",
       "\n",
       "    .dataframe thead th {\n",
       "        text-align: right;\n",
       "    }\n",
       "</style>\n",
       "<table border=\"1\" class=\"dataframe\">\n",
       "  <thead>\n",
       "    <tr style=\"text-align: right;\">\n",
       "      <th></th>\n",
       "      <th>Unnamed: 0</th>\n",
       "      <th>mora</th>\n",
       "      <th>atraso</th>\n",
       "      <th>vivienda</th>\n",
       "      <th>edad</th>\n",
       "      <th>dias_lab</th>\n",
       "      <th>exp_sf</th>\n",
       "      <th>nivel_ahorro</th>\n",
       "      <th>ingreso</th>\n",
       "      <th>linea_sf</th>\n",
       "      <th>deuda_sf</th>\n",
       "      <th>score</th>\n",
       "      <th>zona</th>\n",
       "      <th>clasif_sbs</th>\n",
       "      <th>nivel_educ</th>\n",
       "    </tr>\n",
       "  </thead>\n",
       "  <tbody>\n",
       "    <tr>\n",
       "      <th>0</th>\n",
       "      <td>0</td>\n",
       "      <td>0</td>\n",
       "      <td>235</td>\n",
       "      <td>1</td>\n",
       "      <td>30</td>\n",
       "      <td>3748</td>\n",
       "      <td>93.0</td>\n",
       "      <td>5</td>\n",
       "      <td>3500.0</td>\n",
       "      <td>121543.40</td>\n",
       "      <td>0.00</td>\n",
       "      <td>214</td>\n",
       "      <td>Lima</td>\n",
       "      <td>4</td>\n",
       "      <td>3</td>\n",
       "    </tr>\n",
       "    <tr>\n",
       "      <th>1</th>\n",
       "      <td>1</td>\n",
       "      <td>0</td>\n",
       "      <td>18</td>\n",
       "      <td>1</td>\n",
       "      <td>32</td>\n",
       "      <td>4598</td>\n",
       "      <td>9.0</td>\n",
       "      <td>12</td>\n",
       "      <td>900.0</td>\n",
       "      <td>1824.67</td>\n",
       "      <td>1933.75</td>\n",
       "      <td>175</td>\n",
       "      <td>La Libertad</td>\n",
       "      <td>1</td>\n",
       "      <td>2</td>\n",
       "    </tr>\n",
       "    <tr>\n",
       "      <th>2</th>\n",
       "      <td>2</td>\n",
       "      <td>0</td>\n",
       "      <td>0</td>\n",
       "      <td>1</td>\n",
       "      <td>26</td>\n",
       "      <td>5148</td>\n",
       "      <td>8.0</td>\n",
       "      <td>2</td>\n",
       "      <td>2400.0</td>\n",
       "      <td>2797.38</td>\n",
       "      <td>188.29</td>\n",
       "      <td>187</td>\n",
       "      <td>Lima</td>\n",
       "      <td>0</td>\n",
       "      <td>3</td>\n",
       "    </tr>\n",
       "    <tr>\n",
       "      <th>3</th>\n",
       "      <td>3</td>\n",
       "      <td>0</td>\n",
       "      <td>0</td>\n",
       "      <td>1</td>\n",
       "      <td>36</td>\n",
       "      <td>5179</td>\n",
       "      <td>20.0</td>\n",
       "      <td>12</td>\n",
       "      <td>2700.0</td>\n",
       "      <td>121543.40</td>\n",
       "      <td>0.00</td>\n",
       "      <td>187</td>\n",
       "      <td>Ancash</td>\n",
       "      <td>0</td>\n",
       "      <td>2</td>\n",
       "    </tr>\n",
       "    <tr>\n",
       "      <th>4</th>\n",
       "      <td>4</td>\n",
       "      <td>0</td>\n",
       "      <td>0</td>\n",
       "      <td>1</td>\n",
       "      <td>46</td>\n",
       "      <td>3960</td>\n",
       "      <td>3.0</td>\n",
       "      <td>1</td>\n",
       "      <td>3100.0</td>\n",
       "      <td>2000.00</td>\n",
       "      <td>11010.65</td>\n",
       "      <td>189</td>\n",
       "      <td>Lima</td>\n",
       "      <td>0</td>\n",
       "      <td>2</td>\n",
       "    </tr>\n",
       "  </tbody>\n",
       "</table>\n",
       "</div>"
      ],
      "text/plain": [
       "   Unnamed: 0  mora  atraso  vivienda  edad  dias_lab  exp_sf  nivel_ahorro  \\\n",
       "0           0     0     235         1    30      3748    93.0             5   \n",
       "1           1     0      18         1    32      4598     9.0            12   \n",
       "2           2     0       0         1    26      5148     8.0             2   \n",
       "3           3     0       0         1    36      5179    20.0            12   \n",
       "4           4     0       0         1    46      3960     3.0             1   \n",
       "\n",
       "   ingreso   linea_sf  deuda_sf  score         zona  clasif_sbs  nivel_educ  \n",
       "0   3500.0  121543.40      0.00    214         Lima           4           3  \n",
       "1    900.0    1824.67   1933.75    175  La Libertad           1           2  \n",
       "2   2400.0    2797.38    188.29    187         Lima           0           3  \n",
       "3   2700.0  121543.40      0.00    187       Ancash           0           2  \n",
       "4   3100.0    2000.00  11010.65    189         Lima           0           2  "
      ]
     },
     "execution_count": 2,
     "metadata": {},
     "output_type": "execute_result"
    }
   ],
   "source": [
    "dataN = pd.read_csv(\"dataN.csv\")\n",
    "dataN.head()"
   ]
  },
  {
   "cell_type": "code",
   "execution_count": 3,
   "id": "c2fda97c",
   "metadata": {},
   "outputs": [
    {
     "data": {
      "text/plain": [
       "(8399, 5)"
      ]
     },
     "execution_count": 3,
     "metadata": {},
     "output_type": "execute_result"
    }
   ],
   "source": [
    "feature_colsN = ['exp_sf', 'ingreso', 'score', 'dias_lab','nivel_ahorro']\n",
    "Xn = dataN[feature_colsN] # features\n",
    "yn = np.array(dataN['mora'])\n",
    "Xn.shape"
   ]
  },
  {
   "cell_type": "code",
   "execution_count": 4,
   "id": "5b08d463",
   "metadata": {},
   "outputs": [],
   "source": [
    "validation_size = 0.20\n",
    "seed = 7\n",
    "X_train, X_test, Y_train, Y_test = model_selection.train_test_split(Xn, yn, test_size=validation_size, random_state=seed)\n"
   ]
  },
  {
   "cell_type": "markdown",
   "id": "71ac3803",
   "metadata": {},
   "source": [
    "# Árbol de decisión"
   ]
  },
  {
   "cell_type": "code",
   "execution_count": 5,
   "id": "2520c686",
   "metadata": {},
   "outputs": [
    {
     "name": "stdout",
     "output_type": "stream",
     "text": [
      "Accuracy: 0.7297619047619047\n"
     ]
    }
   ],
   "source": [
    "'''\n",
    "    Configuramos el max_depth = 2 para pre podar el árbol y asegurarse de que no tenga una profundidad mayor que 3. \n",
    "    También tenga en cuenta que en mi código a continuación, hice random_state = 0 para evitar la aleatoriedad\n",
    "'''\n",
    "# create Decision Tree classifier object\n",
    "clf = DecisionTreeClassifier(criterion=\"entropy\", max_depth=3, random_state = 0)\n",
    "\n",
    "# train Decision Tree Classifier\n",
    "clf = clf.fit(X_train,Y_train)\n",
    "\n",
    "# predict the response for test dataset\n",
    "y_pred = clf.predict(X_test)\n",
    "\n",
    "# compute model accuracy\n",
    "print(\"Accuracy:\",metrics.accuracy_score(Y_test, y_pred))"
   ]
  },
  {
   "cell_type": "markdown",
   "id": "26ef8624",
   "metadata": {},
   "source": [
    "## Importancia de la característica"
   ]
  },
  {
   "cell_type": "code",
   "execution_count": 6,
   "id": "d6688a4f",
   "metadata": {},
   "outputs": [
    {
     "data": {
      "text/html": [
       "<div>\n",
       "<style scoped>\n",
       "    .dataframe tbody tr th:only-of-type {\n",
       "        vertical-align: middle;\n",
       "    }\n",
       "\n",
       "    .dataframe tbody tr th {\n",
       "        vertical-align: top;\n",
       "    }\n",
       "\n",
       "    .dataframe thead th {\n",
       "        text-align: right;\n",
       "    }\n",
       "</style>\n",
       "<table border=\"1\" class=\"dataframe\">\n",
       "  <thead>\n",
       "    <tr style=\"text-align: right;\">\n",
       "      <th></th>\n",
       "      <th>feature</th>\n",
       "      <th>importance</th>\n",
       "    </tr>\n",
       "  </thead>\n",
       "  <tbody>\n",
       "    <tr>\n",
       "      <th>0</th>\n",
       "      <td>exp_sf</td>\n",
       "      <td>0.586</td>\n",
       "    </tr>\n",
       "    <tr>\n",
       "      <th>4</th>\n",
       "      <td>nivel_ahorro</td>\n",
       "      <td>0.209</td>\n",
       "    </tr>\n",
       "    <tr>\n",
       "      <th>1</th>\n",
       "      <td>ingreso</td>\n",
       "      <td>0.205</td>\n",
       "    </tr>\n",
       "    <tr>\n",
       "      <th>2</th>\n",
       "      <td>score</td>\n",
       "      <td>0.000</td>\n",
       "    </tr>\n",
       "    <tr>\n",
       "      <th>3</th>\n",
       "      <td>dias_lab</td>\n",
       "      <td>0.000</td>\n",
       "    </tr>\n",
       "  </tbody>\n",
       "</table>\n",
       "</div>"
      ],
      "text/plain": [
       "        feature  importance\n",
       "0        exp_sf       0.586\n",
       "4  nivel_ahorro       0.209\n",
       "1       ingreso       0.205\n",
       "2         score       0.000\n",
       "3      dias_lab       0.000"
      ]
     },
     "execution_count": 6,
     "metadata": {},
     "output_type": "execute_result"
    }
   ],
   "source": [
    "#El siguiente código muestra las características importantes para cada característica en un modelo de árbol de decisión.\n",
    "\n",
    "importances = pd.DataFrame({'feature':X_train.columns,'importance':np.round(clf.feature_importances_,3)})\n",
    "importances = importances.sort_values('importance',ascending=False)\n",
    "importances"
   ]
  },
  {
   "cell_type": "markdown",
   "id": "295224fe",
   "metadata": {},
   "source": [
    "## Visualización "
   ]
  },
  {
   "cell_type": "code",
   "execution_count": 7,
   "id": "a42beb7b",
   "metadata": {},
   "outputs": [
    {
     "name": "stdout",
     "output_type": "stream",
     "text": [
      "|--- exp_sf <= 44.50\n",
      "|   |--- ingreso <= 2096.80\n",
      "|   |   |--- ingreso <= 826.30\n",
      "|   |   |   |--- class: 1\n",
      "|   |   |--- ingreso >  826.30\n",
      "|   |   |   |--- class: 1\n",
      "|   |--- ingreso >  2096.80\n",
      "|   |   |--- nivel_ahorro <= 10.50\n",
      "|   |   |   |--- class: 1\n",
      "|   |   |--- nivel_ahorro >  10.50\n",
      "|   |   |   |--- class: 1\n",
      "|--- exp_sf >  44.50\n",
      "|   |--- nivel_ahorro <= 11.50\n",
      "|   |   |--- exp_sf <= 56.50\n",
      "|   |   |   |--- class: 1\n",
      "|   |   |--- exp_sf >  56.50\n",
      "|   |   |   |--- class: 1\n",
      "|   |--- nivel_ahorro >  11.50\n",
      "|   |   |--- exp_sf <= 110.50\n",
      "|   |   |   |--- class: 0\n",
      "|   |   |--- exp_sf >  110.50\n",
      "|   |   |   |--- class: 0\n",
      "\n"
     ]
    }
   ],
   "source": [
    "from sklearn.tree import export_text\n",
    "from sklearn.model_selection import train_test_split\n",
    "\n",
    "r = export_text(clf, feature_names=feature_colsN)\n",
    "\n",
    "print(r)"
   ]
  },
  {
   "cell_type": "markdown",
   "id": "745bb1b9",
   "metadata": {},
   "source": [
    "# SVM"
   ]
  },
  {
   "cell_type": "code",
   "execution_count": 8,
   "id": "4f45bd78",
   "metadata": {},
   "outputs": [],
   "source": [
    "#Librerías\n",
    "from sklearn import datasets\n",
    "from sklearn.model_selection import train_test_split\n",
    "from sklearn import svm\n",
    "from sklearn import metrics"
   ]
  },
  {
   "cell_type": "code",
   "execution_count": null,
   "id": "105773c3",
   "metadata": {},
   "outputs": [],
   "source": [
    "# create a svm classifier with linear kernel\n",
    "clf = svm.SVC(kernel='linear')\n",
    "\n",
    "# train the model\n",
    "clf.fit(X_train, Y_train)\n",
    "\n",
    "# predict the response for the test dataset\n",
    "y_pred = clf.predict(X_test)"
   ]
  },
  {
   "cell_type": "code",
   "execution_count": null,
   "id": "93ed6132",
   "metadata": {},
   "outputs": [],
   "source": [
    "### Evaluate the model\n",
    "\n",
    "# Model Accuracy: how often is the classifier correct?\n",
    "print(\"Accuracy:\", metrics.accuracy_score(Y_test, y_pred))\n",
    "\n",
    "# Model Precision: what percentage of positive tuples are labeled as such?\n",
    "print(\"Precision:\", metrics.precision_score(Y_test, y_pred))\n",
    "\n",
    "# Model Recall: what percentage of positive tuples are labelled as such?\n",
    "print(\"Recall:\", metrics.recall_score(Y_test, y_pred))"
   ]
  },
  {
   "cell_type": "markdown",
   "id": "9d7a07b1",
   "metadata": {},
   "source": [
    "# Comparación precisiones"
   ]
  },
  {
   "cell_type": "markdown",
   "id": "9ba830e4",
   "metadata": {},
   "source": [
    "## Regresión logistica\n",
    "Exactitud: 0.7148809523809524\n",
    "\n",
    "## Árbol de decisión\n",
    "\n",
    "Accuracy: 0.7297619047619047\n",
    "\n",
    "## SVM\n",
    "Accuracy: 0.7157142857142857"
   ]
  },
  {
   "cell_type": "code",
   "execution_count": null,
   "id": "899f2dcd",
   "metadata": {},
   "outputs": [],
   "source": []
  }
 ],
 "metadata": {
  "kernelspec": {
   "display_name": "Python 3 (ipykernel)",
   "language": "python",
   "name": "python3"
  },
  "language_info": {
   "codemirror_mode": {
    "name": "ipython",
    "version": 3
   },
   "file_extension": ".py",
   "mimetype": "text/x-python",
   "name": "python",
   "nbconvert_exporter": "python",
   "pygments_lexer": "ipython3",
   "version": "3.9.7"
  }
 },
 "nbformat": 4,
 "nbformat_minor": 5
}
