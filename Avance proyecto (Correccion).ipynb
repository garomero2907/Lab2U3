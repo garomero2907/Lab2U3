{
 "cells": [
  {
   "cell_type": "markdown",
   "id": "afe8711c",
   "metadata": {},
   "source": [
    "# Librerías"
   ]
  },
  {
   "cell_type": "code",
   "execution_count": 27,
   "id": "8eef75a9",
   "metadata": {},
   "outputs": [],
   "source": [
    "import pandas as pd\n",
    "import numpy as np\n",
    "from sklearn import linear_model\n",
    "from sklearn import model_selection\n",
    "from sklearn.metrics import classification_report\n",
    "from sklearn.metrics import confusion_matrix\n",
    "from sklearn.metrics import accuracy_score\n",
    "import matplotlib.pyplot as plt\n",
    "import seaborn as sb\n",
    "%matplotlib inline"
   ]
  },
  {
   "cell_type": "markdown",
   "id": "f49fee1e",
   "metadata": {},
   "source": [
    "## Carga de dataset"
   ]
  },
  {
   "cell_type": "code",
   "execution_count": 28,
   "id": "4520b94d",
   "metadata": {},
   "outputs": [
    {
     "data": {
      "text/html": [
       "<div>\n",
       "<style scoped>\n",
       "    .dataframe tbody tr th:only-of-type {\n",
       "        vertical-align: middle;\n",
       "    }\n",
       "\n",
       "    .dataframe tbody tr th {\n",
       "        vertical-align: top;\n",
       "    }\n",
       "\n",
       "    .dataframe thead th {\n",
       "        text-align: right;\n",
       "    }\n",
       "</style>\n",
       "<table border=\"1\" class=\"dataframe\">\n",
       "  <thead>\n",
       "    <tr style=\"text-align: right;\">\n",
       "      <th></th>\n",
       "      <th>mora</th>\n",
       "      <th>atraso</th>\n",
       "      <th>vivienda</th>\n",
       "      <th>edad</th>\n",
       "      <th>dias_lab</th>\n",
       "      <th>exp_sf</th>\n",
       "      <th>nivel_ahorro</th>\n",
       "      <th>ingreso</th>\n",
       "      <th>linea_sf</th>\n",
       "      <th>deuda_sf</th>\n",
       "      <th>score</th>\n",
       "      <th>zona</th>\n",
       "      <th>clasif_sbs</th>\n",
       "      <th>nivel_educ</th>\n",
       "    </tr>\n",
       "  </thead>\n",
       "  <tbody>\n",
       "    <tr>\n",
       "      <th>0</th>\n",
       "      <td>0</td>\n",
       "      <td>235</td>\n",
       "      <td>FAMILIAR</td>\n",
       "      <td>30</td>\n",
       "      <td>3748</td>\n",
       "      <td>93.0</td>\n",
       "      <td>5</td>\n",
       "      <td>3500.0</td>\n",
       "      <td>NaN</td>\n",
       "      <td>0.00</td>\n",
       "      <td>214</td>\n",
       "      <td>Lima</td>\n",
       "      <td>4</td>\n",
       "      <td>UNIVERSITARIA</td>\n",
       "    </tr>\n",
       "    <tr>\n",
       "      <th>1</th>\n",
       "      <td>0</td>\n",
       "      <td>18</td>\n",
       "      <td>FAMILIAR</td>\n",
       "      <td>32</td>\n",
       "      <td>4598</td>\n",
       "      <td>9.0</td>\n",
       "      <td>12</td>\n",
       "      <td>900.0</td>\n",
       "      <td>1824.67</td>\n",
       "      <td>1933.75</td>\n",
       "      <td>175</td>\n",
       "      <td>La Libertad</td>\n",
       "      <td>1</td>\n",
       "      <td>TECNICA</td>\n",
       "    </tr>\n",
       "    <tr>\n",
       "      <th>2</th>\n",
       "      <td>0</td>\n",
       "      <td>0</td>\n",
       "      <td>FAMILIAR</td>\n",
       "      <td>26</td>\n",
       "      <td>5148</td>\n",
       "      <td>8.0</td>\n",
       "      <td>2</td>\n",
       "      <td>2400.0</td>\n",
       "      <td>2797.38</td>\n",
       "      <td>188.29</td>\n",
       "      <td>187</td>\n",
       "      <td>Lima</td>\n",
       "      <td>0</td>\n",
       "      <td>UNIVERSITARIA</td>\n",
       "    </tr>\n",
       "    <tr>\n",
       "      <th>3</th>\n",
       "      <td>0</td>\n",
       "      <td>0</td>\n",
       "      <td>FAMILIAR</td>\n",
       "      <td>36</td>\n",
       "      <td>5179</td>\n",
       "      <td>20.0</td>\n",
       "      <td>12</td>\n",
       "      <td>2700.0</td>\n",
       "      <td>NaN</td>\n",
       "      <td>0.00</td>\n",
       "      <td>187</td>\n",
       "      <td>Ancash</td>\n",
       "      <td>0</td>\n",
       "      <td>TECNICA</td>\n",
       "    </tr>\n",
       "    <tr>\n",
       "      <th>4</th>\n",
       "      <td>0</td>\n",
       "      <td>0</td>\n",
       "      <td>FAMILIAR</td>\n",
       "      <td>46</td>\n",
       "      <td>3960</td>\n",
       "      <td>NaN</td>\n",
       "      <td>1</td>\n",
       "      <td>3100.0</td>\n",
       "      <td>2000.00</td>\n",
       "      <td>11010.65</td>\n",
       "      <td>189</td>\n",
       "      <td>Lima</td>\n",
       "      <td>0</td>\n",
       "      <td>TECNICA</td>\n",
       "    </tr>\n",
       "  </tbody>\n",
       "</table>\n",
       "</div>"
      ],
      "text/plain": [
       "   mora  atraso  vivienda  edad  dias_lab  exp_sf  nivel_ahorro  ingreso  \\\n",
       "0     0     235  FAMILIAR    30      3748    93.0             5   3500.0   \n",
       "1     0      18  FAMILIAR    32      4598     9.0            12    900.0   \n",
       "2     0       0  FAMILIAR    26      5148     8.0             2   2400.0   \n",
       "3     0       0  FAMILIAR    36      5179    20.0            12   2700.0   \n",
       "4     0       0  FAMILIAR    46      3960     NaN             1   3100.0   \n",
       "\n",
       "   linea_sf  deuda_sf  score         zona  clasif_sbs     nivel_educ  \n",
       "0       NaN      0.00    214         Lima           4  UNIVERSITARIA  \n",
       "1   1824.67   1933.75    175  La Libertad           1        TECNICA  \n",
       "2   2797.38    188.29    187         Lima           0  UNIVERSITARIA  \n",
       "3       NaN      0.00    187       Ancash           0        TECNICA  \n",
       "4   2000.00  11010.65    189         Lima           0        TECNICA  "
      ]
     },
     "execution_count": 28,
     "metadata": {},
     "output_type": "execute_result"
    }
   ],
   "source": [
    "data = pd.read_csv(\"data.csv\")\n",
    "data.head()\n"
   ]
  },
  {
   "cell_type": "code",
   "execution_count": 29,
   "id": "829a348a",
   "metadata": {},
   "outputs": [
    {
     "name": "stdout",
     "output_type": "stream",
     "text": [
      "mora\n",
      "0    2484\n",
      "1    5915\n",
      "dtype: int64\n"
     ]
    }
   ],
   "source": [
    "print(data.groupby('mora').size())"
   ]
  },
  {
   "cell_type": "code",
   "execution_count": 30,
   "id": "d9cc07e2",
   "metadata": {},
   "outputs": [
    {
     "data": {
      "text/plain": [
       "(8399, 14)"
      ]
     },
     "execution_count": 30,
     "metadata": {},
     "output_type": "execute_result"
    }
   ],
   "source": [
    "data.shape"
   ]
  },
  {
   "cell_type": "markdown",
   "id": "583e9e3b",
   "metadata": {},
   "source": [
    "# Imputación de datos"
   ]
  },
  {
   "cell_type": "code",
   "execution_count": 31,
   "id": "5ac4d0bf",
   "metadata": {},
   "outputs": [
    {
     "name": "stdout",
     "output_type": "stream",
     "text": [
      "<class 'pandas.core.frame.DataFrame'>\n",
      "RangeIndex: 8399 entries, 0 to 8398\n",
      "Data columns (total 14 columns):\n",
      " #   Column        Non-Null Count  Dtype  \n",
      "---  ------        --------------  -----  \n",
      " 0   mora          8399 non-null   int64  \n",
      " 1   atraso        8399 non-null   int64  \n",
      " 2   vivienda      8399 non-null   object \n",
      " 3   edad          8399 non-null   int64  \n",
      " 4   dias_lab      8399 non-null   int64  \n",
      " 5   exp_sf        6569 non-null   float64\n",
      " 6   nivel_ahorro  8399 non-null   int64  \n",
      " 7   ingreso       8399 non-null   float64\n",
      " 8   linea_sf      7272 non-null   float64\n",
      " 9   deuda_sf      7938 non-null   float64\n",
      " 10  score         8399 non-null   int64  \n",
      " 11  zona          8399 non-null   object \n",
      " 12  clasif_sbs    8399 non-null   int64  \n",
      " 13  nivel_educ    8399 non-null   object \n",
      "dtypes: float64(4), int64(7), object(3)\n",
      "memory usage: 918.8+ KB\n"
     ]
    }
   ],
   "source": [
    "import pandas as pd # módulo para tratamiento de datos\n",
    "import numpy as np # módulo para tratamiento de matrices\n",
    "import missingno as msno # librería para tratamiento de datos perdidos\n",
    "import matplotlib.pyplot as plt # módulo graficador\n",
    "\n",
    "data.info()"
   ]
  },
  {
   "cell_type": "code",
   "execution_count": 32,
   "id": "39c52599",
   "metadata": {},
   "outputs": [
    {
     "data": {
      "text/html": [
       "<div>\n",
       "<style scoped>\n",
       "    .dataframe tbody tr th:only-of-type {\n",
       "        vertical-align: middle;\n",
       "    }\n",
       "\n",
       "    .dataframe tbody tr th {\n",
       "        vertical-align: top;\n",
       "    }\n",
       "\n",
       "    .dataframe thead th {\n",
       "        text-align: right;\n",
       "    }\n",
       "</style>\n",
       "<table border=\"1\" class=\"dataframe\">\n",
       "  <thead>\n",
       "    <tr style=\"text-align: right;\">\n",
       "      <th></th>\n",
       "      <th>mora</th>\n",
       "      <th>atraso</th>\n",
       "      <th>edad</th>\n",
       "      <th>dias_lab</th>\n",
       "      <th>exp_sf</th>\n",
       "      <th>nivel_ahorro</th>\n",
       "      <th>ingreso</th>\n",
       "      <th>linea_sf</th>\n",
       "      <th>deuda_sf</th>\n",
       "      <th>score</th>\n",
       "      <th>clasif_sbs</th>\n",
       "    </tr>\n",
       "  </thead>\n",
       "  <tbody>\n",
       "    <tr>\n",
       "      <th>count</th>\n",
       "      <td>8399.000000</td>\n",
       "      <td>8399.00000</td>\n",
       "      <td>8399.000000</td>\n",
       "      <td>8399.000000</td>\n",
       "      <td>6569.000000</td>\n",
       "      <td>8399.000000</td>\n",
       "      <td>8399.000000</td>\n",
       "      <td>7272.000000</td>\n",
       "      <td>7938.000000</td>\n",
       "      <td>8399.000000</td>\n",
       "      <td>8399.000000</td>\n",
       "    </tr>\n",
       "    <tr>\n",
       "      <th>mean</th>\n",
       "      <td>0.704251</td>\n",
       "      <td>4.46315</td>\n",
       "      <td>36.399095</td>\n",
       "      <td>5555.888796</td>\n",
       "      <td>32.401583</td>\n",
       "      <td>10.593166</td>\n",
       "      <td>4350.406997</td>\n",
       "      <td>11987.241038</td>\n",
       "      <td>6110.724308</td>\n",
       "      <td>196.619955</td>\n",
       "      <td>0.563519</td>\n",
       "    </tr>\n",
       "    <tr>\n",
       "      <th>std</th>\n",
       "      <td>0.456406</td>\n",
       "      <td>14.27084</td>\n",
       "      <td>9.825764</td>\n",
       "      <td>2153.244140</td>\n",
       "      <td>32.866232</td>\n",
       "      <td>3.374619</td>\n",
       "      <td>5367.058953</td>\n",
       "      <td>21322.801655</td>\n",
       "      <td>11177.989799</td>\n",
       "      <td>19.544348</td>\n",
       "      <td>0.905637</td>\n",
       "    </tr>\n",
       "    <tr>\n",
       "      <th>min</th>\n",
       "      <td>0.000000</td>\n",
       "      <td>0.00000</td>\n",
       "      <td>20.000000</td>\n",
       "      <td>2956.000000</td>\n",
       "      <td>0.000000</td>\n",
       "      <td>0.000000</td>\n",
       "      <td>123.700000</td>\n",
       "      <td>0.000000</td>\n",
       "      <td>0.000000</td>\n",
       "      <td>134.000000</td>\n",
       "      <td>0.000000</td>\n",
       "    </tr>\n",
       "    <tr>\n",
       "      <th>25%</th>\n",
       "      <td>0.000000</td>\n",
       "      <td>0.00000</td>\n",
       "      <td>29.000000</td>\n",
       "      <td>4174.000000</td>\n",
       "      <td>7.000000</td>\n",
       "      <td>12.000000</td>\n",
       "      <td>1366.670000</td>\n",
       "      <td>1169.372500</td>\n",
       "      <td>478.320000</td>\n",
       "      <td>182.000000</td>\n",
       "      <td>0.000000</td>\n",
       "    </tr>\n",
       "    <tr>\n",
       "      <th>50%</th>\n",
       "      <td>1.000000</td>\n",
       "      <td>0.00000</td>\n",
       "      <td>34.000000</td>\n",
       "      <td>4904.000000</td>\n",
       "      <td>20.000000</td>\n",
       "      <td>12.000000</td>\n",
       "      <td>2400.000000</td>\n",
       "      <td>4030.120000</td>\n",
       "      <td>2258.755000</td>\n",
       "      <td>197.000000</td>\n",
       "      <td>0.000000</td>\n",
       "    </tr>\n",
       "    <tr>\n",
       "      <th>75%</th>\n",
       "      <td>1.000000</td>\n",
       "      <td>2.00000</td>\n",
       "      <td>42.000000</td>\n",
       "      <td>6182.000000</td>\n",
       "      <td>51.000000</td>\n",
       "      <td>12.000000</td>\n",
       "      <td>4900.000000</td>\n",
       "      <td>12086.627500</td>\n",
       "      <td>5755.150000</td>\n",
       "      <td>212.000000</td>\n",
       "      <td>1.000000</td>\n",
       "    </tr>\n",
       "    <tr>\n",
       "      <th>max</th>\n",
       "      <td>1.000000</td>\n",
       "      <td>245.00000</td>\n",
       "      <td>85.000000</td>\n",
       "      <td>20700.000000</td>\n",
       "      <td>130.000000</td>\n",
       "      <td>12.000000</td>\n",
       "      <td>30000.000000</td>\n",
       "      <td>121543.400000</td>\n",
       "      <td>57094.380000</td>\n",
       "      <td>266.000000</td>\n",
       "      <td>4.000000</td>\n",
       "    </tr>\n",
       "  </tbody>\n",
       "</table>\n",
       "</div>"
      ],
      "text/plain": [
       "              mora      atraso         edad      dias_lab       exp_sf  \\\n",
       "count  8399.000000  8399.00000  8399.000000   8399.000000  6569.000000   \n",
       "mean      0.704251     4.46315    36.399095   5555.888796    32.401583   \n",
       "std       0.456406    14.27084     9.825764   2153.244140    32.866232   \n",
       "min       0.000000     0.00000    20.000000   2956.000000     0.000000   \n",
       "25%       0.000000     0.00000    29.000000   4174.000000     7.000000   \n",
       "50%       1.000000     0.00000    34.000000   4904.000000    20.000000   \n",
       "75%       1.000000     2.00000    42.000000   6182.000000    51.000000   \n",
       "max       1.000000   245.00000    85.000000  20700.000000   130.000000   \n",
       "\n",
       "       nivel_ahorro       ingreso       linea_sf      deuda_sf        score  \\\n",
       "count   8399.000000   8399.000000    7272.000000   7938.000000  8399.000000   \n",
       "mean      10.593166   4350.406997   11987.241038   6110.724308   196.619955   \n",
       "std        3.374619   5367.058953   21322.801655  11177.989799    19.544348   \n",
       "min        0.000000    123.700000       0.000000      0.000000   134.000000   \n",
       "25%       12.000000   1366.670000    1169.372500    478.320000   182.000000   \n",
       "50%       12.000000   2400.000000    4030.120000   2258.755000   197.000000   \n",
       "75%       12.000000   4900.000000   12086.627500   5755.150000   212.000000   \n",
       "max       12.000000  30000.000000  121543.400000  57094.380000   266.000000   \n",
       "\n",
       "        clasif_sbs  \n",
       "count  8399.000000  \n",
       "mean      0.563519  \n",
       "std       0.905637  \n",
       "min       0.000000  \n",
       "25%       0.000000  \n",
       "50%       0.000000  \n",
       "75%       1.000000  \n",
       "max       4.000000  "
      ]
     },
     "execution_count": 32,
     "metadata": {},
     "output_type": "execute_result"
    }
   ],
   "source": [
    "# Empezamos realizando un análisis descriptivo de las variables para entender sus dimensiones\n",
    "data.describe()"
   ]
  },
  {
   "cell_type": "code",
   "execution_count": 33,
   "id": "899a8a80",
   "metadata": {},
   "outputs": [
    {
     "data": {
      "text/plain": [
       "mora             0.000000\n",
       "atraso           0.000000\n",
       "vivienda         0.000000\n",
       "edad             0.000000\n",
       "dias_lab         0.000000\n",
       "exp_sf          21.788308\n",
       "nivel_ahorro     0.000000\n",
       "ingreso          0.000000\n",
       "linea_sf        13.418264\n",
       "deuda_sf         5.488749\n",
       "score            0.000000\n",
       "zona             0.000000\n",
       "clasif_sbs       0.000000\n",
       "nivel_educ       0.000000\n",
       "dtype: float64"
      ]
     },
     "execution_count": 33,
     "metadata": {},
     "output_type": "execute_result"
    }
   ],
   "source": [
    "\n",
    "# explorando la cantidad de valores perdidos en las variables\n",
    "data.isna().sum()/data.shape[0]*100"
   ]
  },
  {
   "cell_type": "code",
   "execution_count": 34,
   "id": "782c7003",
   "metadata": {},
   "outputs": [
    {
     "name": "stdout",
     "output_type": "stream",
     "text": [
      "exp_sf\n",
      "0.0      1258\n",
      "1.0        28\n",
      "2.0        22\n",
      "3.0        33\n",
      "4.0        31\n",
      "         ... \n",
      "121.0      12\n",
      "122.0       1\n",
      "123.0       3\n",
      "124.0       2\n",
      "130.0       1\n",
      "Length: 126, dtype: int64\n"
     ]
    }
   ],
   "source": [
    "print(data.groupby('exp_sf').size())"
   ]
  },
  {
   "cell_type": "code",
   "execution_count": 35,
   "id": "f40b0611",
   "metadata": {},
   "outputs": [
    {
     "name": "stdout",
     "output_type": "stream",
     "text": [
      "linea_sf\n",
      "0.00         747\n",
      "0.02           2\n",
      "0.06           1\n",
      "0.09           2\n",
      "0.26           1\n",
      "            ... \n",
      "119402.50      1\n",
      "120610.00      1\n",
      "121200.00      1\n",
      "121335.08      1\n",
      "121543.40     87\n",
      "Length: 3240, dtype: int64\n"
     ]
    }
   ],
   "source": [
    "print(data.groupby('linea_sf').size())"
   ]
  },
  {
   "cell_type": "code",
   "execution_count": 36,
   "id": "5e199790",
   "metadata": {},
   "outputs": [
    {
     "name": "stdout",
     "output_type": "stream",
     "text": [
      "deuda_sf\n",
      "0.00        1185\n",
      "0.05           5\n",
      "0.06           1\n",
      "0.09           2\n",
      "0.22           1\n",
      "            ... \n",
      "55402.85       1\n",
      "55665.36       1\n",
      "56227.48       1\n",
      "56989.35       1\n",
      "57094.38     195\n",
      "Length: 3851, dtype: int64\n"
     ]
    }
   ],
   "source": [
    "print(data.groupby('deuda_sf').size())"
   ]
  },
  {
   "cell_type": "markdown",
   "id": "9bc2be01",
   "metadata": {},
   "source": [
    "Un vistazo inicial nos muestra que existen variables con mucha información faltante como son las variables: exp_sf, linea_sf y deuda_sf. "
   ]
  },
  {
   "cell_type": "markdown",
   "id": "fd60b7b9",
   "metadata": {},
   "source": [
    "**bar missing:** visualizar los datos de los valores perdidos es mediante el uso de gráficos de barras. Estas barras muestran los valores que son proporcionales a los datos que no faltan en el conjunto de datos. Junto con eso, también se muestra el número de valores que faltan.\n",
    "\n"
   ]
  },
  {
   "cell_type": "code",
   "execution_count": 37,
   "id": "0099823c",
   "metadata": {},
   "outputs": [
    {
     "data": {
      "text/plain": [
       "<AxesSubplot:>"
      ]
     },
     "execution_count": 37,
     "metadata": {},
     "output_type": "execute_result"
    },
    {
     "data": {
      "image/png": "[encoded data removed]",
      "text/plain": [
       "<Figure size 1800x720 with 3 Axes>"
      ]
     },
     "metadata": {
      "needs_background": "light"
     },
     "output_type": "display_data"
    }
   ],
   "source": [
    "# bar missing\n",
    "msno.bar(data)"
   ]
  },
  {
   "cell_type": "code",
   "execution_count": 38,
   "id": "4a42abbb",
   "metadata": {},
   "outputs": [
    {
     "data": {
      "text/html": [
       "<div>\n",
       "<style scoped>\n",
       "    .dataframe tbody tr th:only-of-type {\n",
       "        vertical-align: middle;\n",
       "    }\n",
       "\n",
       "    .dataframe tbody tr th {\n",
       "        vertical-align: top;\n",
       "    }\n",
       "\n",
       "    .dataframe thead th {\n",
       "        text-align: right;\n",
       "    }\n",
       "</style>\n",
       "<table border=\"1\" class=\"dataframe\">\n",
       "  <thead>\n",
       "    <tr style=\"text-align: right;\">\n",
       "      <th></th>\n",
       "      <th>mora</th>\n",
       "      <th>atraso</th>\n",
       "      <th>vivienda</th>\n",
       "      <th>edad</th>\n",
       "      <th>dias_lab</th>\n",
       "      <th>exp_sf</th>\n",
       "      <th>nivel_ahorro</th>\n",
       "      <th>ingreso</th>\n",
       "      <th>linea_sf</th>\n",
       "      <th>deuda_sf</th>\n",
       "      <th>score</th>\n",
       "      <th>zona</th>\n",
       "      <th>clasif_sbs</th>\n",
       "      <th>nivel_educ</th>\n",
       "    </tr>\n",
       "  </thead>\n",
       "  <tbody>\n",
       "    <tr>\n",
       "      <th>0</th>\n",
       "      <td>0</td>\n",
       "      <td>235</td>\n",
       "      <td>FAMILIAR</td>\n",
       "      <td>30</td>\n",
       "      <td>3748</td>\n",
       "      <td>93.0</td>\n",
       "      <td>5</td>\n",
       "      <td>3500.0</td>\n",
       "      <td>121543.40</td>\n",
       "      <td>0.0</td>\n",
       "      <td>214</td>\n",
       "      <td>Lima</td>\n",
       "      <td>4</td>\n",
       "      <td>UNIVERSITARIA</td>\n",
       "    </tr>\n",
       "    <tr>\n",
       "      <th>1</th>\n",
       "      <td>0</td>\n",
       "      <td>18</td>\n",
       "      <td>FAMILIAR</td>\n",
       "      <td>32</td>\n",
       "      <td>4598</td>\n",
       "      <td>9.0</td>\n",
       "      <td>12</td>\n",
       "      <td>900.0</td>\n",
       "      <td>1824.67</td>\n",
       "      <td>1933.75</td>\n",
       "      <td>175</td>\n",
       "      <td>La Libertad</td>\n",
       "      <td>1</td>\n",
       "      <td>TECNICA</td>\n",
       "    </tr>\n",
       "    <tr>\n",
       "      <th>2</th>\n",
       "      <td>0</td>\n",
       "      <td>0</td>\n",
       "      <td>FAMILIAR</td>\n",
       "      <td>26</td>\n",
       "      <td>5148</td>\n",
       "      <td>8.0</td>\n",
       "      <td>2</td>\n",
       "      <td>2400.0</td>\n",
       "      <td>2797.38</td>\n",
       "      <td>188.29</td>\n",
       "      <td>187</td>\n",
       "      <td>Lima</td>\n",
       "      <td>0</td>\n",
       "      <td>UNIVERSITARIA</td>\n",
       "    </tr>\n",
       "    <tr>\n",
       "      <th>3</th>\n",
       "      <td>0</td>\n",
       "      <td>0</td>\n",
       "      <td>FAMILIAR</td>\n",
       "      <td>36</td>\n",
       "      <td>5179</td>\n",
       "      <td>20.0</td>\n",
       "      <td>12</td>\n",
       "      <td>2700.0</td>\n",
       "      <td>121543.40</td>\n",
       "      <td>0.0</td>\n",
       "      <td>187</td>\n",
       "      <td>Ancash</td>\n",
       "      <td>0</td>\n",
       "      <td>TECNICA</td>\n",
       "    </tr>\n",
       "    <tr>\n",
       "      <th>4</th>\n",
       "      <td>0</td>\n",
       "      <td>0</td>\n",
       "      <td>FAMILIAR</td>\n",
       "      <td>46</td>\n",
       "      <td>3960</td>\n",
       "      <td>3.0</td>\n",
       "      <td>1</td>\n",
       "      <td>3100.0</td>\n",
       "      <td>2000.0</td>\n",
       "      <td>11010.65</td>\n",
       "      <td>189</td>\n",
       "      <td>Lima</td>\n",
       "      <td>0</td>\n",
       "      <td>TECNICA</td>\n",
       "    </tr>\n",
       "  </tbody>\n",
       "</table>\n",
       "</div>"
      ],
      "text/plain": [
       "   mora  atraso  vivienda  edad  dias_lab exp_sf  nivel_ahorro  ingreso  \\\n",
       "0     0     235  FAMILIAR    30      3748   93.0             5   3500.0   \n",
       "1     0      18  FAMILIAR    32      4598    9.0            12    900.0   \n",
       "2     0       0  FAMILIAR    26      5148    8.0             2   2400.0   \n",
       "3     0       0  FAMILIAR    36      5179   20.0            12   2700.0   \n",
       "4     0       0  FAMILIAR    46      3960    3.0             1   3100.0   \n",
       "\n",
       "    linea_sf  deuda_sf  score         zona  clasif_sbs     nivel_educ  \n",
       "0  121543.40       0.0    214         Lima           4  UNIVERSITARIA  \n",
       "1    1824.67   1933.75    175  La Libertad           1        TECNICA  \n",
       "2    2797.38    188.29    187         Lima           0  UNIVERSITARIA  \n",
       "3  121543.40       0.0    187       Ancash           0        TECNICA  \n",
       "4     2000.0  11010.65    189         Lima           0        TECNICA  "
      ]
     },
     "execution_count": 38,
     "metadata": {},
     "output_type": "execute_result"
    }
   ],
   "source": [
    "#Imputación\n",
    "\n",
    "data['exp_sf'].replace(np.nan, '3.0', inplace = True)\n",
    "data['linea_sf'].replace(np.nan, '121543.40', inplace = True)\n",
    "data['deuda_sf'].replace(np.nan, '0.5', inplace = True)\n",
    "\n",
    "data.head()\n",
    "\n"
   ]
  },
  {
   "cell_type": "code",
   "execution_count": 39,
   "id": "ca5ae3e2",
   "metadata": {},
   "outputs": [
    {
     "data": {
      "text/plain": [
       "mora            0.0\n",
       "atraso          0.0\n",
       "vivienda        0.0\n",
       "edad            0.0\n",
       "dias_lab        0.0\n",
       "exp_sf          0.0\n",
       "nivel_ahorro    0.0\n",
       "ingreso         0.0\n",
       "linea_sf        0.0\n",
       "deuda_sf        0.0\n",
       "score           0.0\n",
       "zona            0.0\n",
       "clasif_sbs      0.0\n",
       "nivel_educ      0.0\n",
       "dtype: float64"
      ]
     },
     "execution_count": 39,
     "metadata": {},
     "output_type": "execute_result"
    }
   ],
   "source": [
    "# explorando la cantidad de valores perdidos en las variables\n",
    "data.isna().sum()/data.shape[0]*100"
   ]
  },
  {
   "cell_type": "markdown",
   "id": "d8478f5c",
   "metadata": {},
   "source": [
    "## Transformación de datos a numéricos"
   ]
  },
  {
   "cell_type": "code",
   "execution_count": 40,
   "id": "3e48dfa7",
   "metadata": {},
   "outputs": [
    {
     "name": "stdout",
     "output_type": "stream",
     "text": [
      "vivienda\n",
      "ALQUILADA     165\n",
      "FAMILIAR     5853\n",
      "PROPIA       2381\n",
      "dtype: int64\n"
     ]
    }
   ],
   "source": [
    "print(data.groupby('vivienda').size())"
   ]
  },
  {
   "cell_type": "code",
   "execution_count": 42,
   "id": "b9bf3535",
   "metadata": {},
   "outputs": [
    {
     "name": "stdout",
     "output_type": "stream",
     "text": [
      "nivel_educ\n",
      "SECUNDARIA        267\n",
      "SIN EDUCACION      42\n",
      "TECNICA          3288\n",
      "UNIVERSITARIA    4802\n",
      "dtype: int64\n"
     ]
    }
   ],
   "source": [
    "print(data.groupby('nivel_educ').size())"
   ]
  },
  {
   "cell_type": "code",
   "execution_count": 45,
   "id": "b3b5270f",
   "metadata": {},
   "outputs": [],
   "source": [
    "#Cambiar los valores de cadena a numéricos\n",
    "d1 = {'ALQUILADA': 0, 'FAMILIAR': 1, 'PROPIA': 2}\n",
    "data['vivienda'] = data['vivienda'].map(d1)\n",
    "#Impresión de datos modificados"
   ]
  },
  {
   "cell_type": "code",
   "execution_count": 47,
   "id": "693ae1d4",
   "metadata": {},
   "outputs": [],
   "source": [
    "d2 = {'SECUNDARIA': 0, 'SIN EDUCACION': 1,'TECNICA':2, 'UNIVERSITARIA':3}\n",
    "data['nivel_educ'] = data['nivel_educ'].map(d2)"
   ]
  },
  {
   "cell_type": "code",
   "execution_count": 57,
   "id": "bddda5d4",
   "metadata": {},
   "outputs": [
    {
     "data": {
      "text/html": [
       "<div>\n",
       "<style scoped>\n",
       "    .dataframe tbody tr th:only-of-type {\n",
       "        vertical-align: middle;\n",
       "    }\n",
       "\n",
       "    .dataframe tbody tr th {\n",
       "        vertical-align: top;\n",
       "    }\n",
       "\n",
       "    .dataframe thead th {\n",
       "        text-align: right;\n",
       "    }\n",
       "</style>\n",
       "<table border=\"1\" class=\"dataframe\">\n",
       "  <thead>\n",
       "    <tr style=\"text-align: right;\">\n",
       "      <th></th>\n",
       "      <th>mora</th>\n",
       "      <th>atraso</th>\n",
       "      <th>vivienda</th>\n",
       "      <th>edad</th>\n",
       "      <th>dias_lab</th>\n",
       "      <th>exp_sf</th>\n",
       "      <th>nivel_ahorro</th>\n",
       "      <th>ingreso</th>\n",
       "      <th>linea_sf</th>\n",
       "      <th>deuda_sf</th>\n",
       "      <th>score</th>\n",
       "      <th>zona</th>\n",
       "      <th>clasif_sbs</th>\n",
       "      <th>nivel_educ</th>\n",
       "    </tr>\n",
       "  </thead>\n",
       "  <tbody>\n",
       "    <tr>\n",
       "      <th>0</th>\n",
       "      <td>0</td>\n",
       "      <td>235</td>\n",
       "      <td>1</td>\n",
       "      <td>30</td>\n",
       "      <td>3748</td>\n",
       "      <td>93.0</td>\n",
       "      <td>5</td>\n",
       "      <td>3500.0</td>\n",
       "      <td>121543.40</td>\n",
       "      <td>0.0</td>\n",
       "      <td>214</td>\n",
       "      <td>Lima</td>\n",
       "      <td>4</td>\n",
       "      <td>3</td>\n",
       "    </tr>\n",
       "    <tr>\n",
       "      <th>1</th>\n",
       "      <td>0</td>\n",
       "      <td>18</td>\n",
       "      <td>1</td>\n",
       "      <td>32</td>\n",
       "      <td>4598</td>\n",
       "      <td>9.0</td>\n",
       "      <td>12</td>\n",
       "      <td>900.0</td>\n",
       "      <td>1824.67</td>\n",
       "      <td>1933.75</td>\n",
       "      <td>175</td>\n",
       "      <td>La Libertad</td>\n",
       "      <td>1</td>\n",
       "      <td>2</td>\n",
       "    </tr>\n",
       "    <tr>\n",
       "      <th>2</th>\n",
       "      <td>0</td>\n",
       "      <td>0</td>\n",
       "      <td>1</td>\n",
       "      <td>26</td>\n",
       "      <td>5148</td>\n",
       "      <td>8.0</td>\n",
       "      <td>2</td>\n",
       "      <td>2400.0</td>\n",
       "      <td>2797.38</td>\n",
       "      <td>188.29</td>\n",
       "      <td>187</td>\n",
       "      <td>Lima</td>\n",
       "      <td>0</td>\n",
       "      <td>3</td>\n",
       "    </tr>\n",
       "    <tr>\n",
       "      <th>3</th>\n",
       "      <td>0</td>\n",
       "      <td>0</td>\n",
       "      <td>1</td>\n",
       "      <td>36</td>\n",
       "      <td>5179</td>\n",
       "      <td>20.0</td>\n",
       "      <td>12</td>\n",
       "      <td>2700.0</td>\n",
       "      <td>121543.40</td>\n",
       "      <td>0.0</td>\n",
       "      <td>187</td>\n",
       "      <td>Ancash</td>\n",
       "      <td>0</td>\n",
       "      <td>2</td>\n",
       "    </tr>\n",
       "    <tr>\n",
       "      <th>4</th>\n",
       "      <td>0</td>\n",
       "      <td>0</td>\n",
       "      <td>1</td>\n",
       "      <td>46</td>\n",
       "      <td>3960</td>\n",
       "      <td>3.0</td>\n",
       "      <td>1</td>\n",
       "      <td>3100.0</td>\n",
       "      <td>2000.0</td>\n",
       "      <td>11010.65</td>\n",
       "      <td>189</td>\n",
       "      <td>Lima</td>\n",
       "      <td>0</td>\n",
       "      <td>2</td>\n",
       "    </tr>\n",
       "  </tbody>\n",
       "</table>\n",
       "</div>"
      ],
      "text/plain": [
       "   mora  atraso  vivienda  edad  dias_lab exp_sf  nivel_ahorro  ingreso  \\\n",
       "0     0     235         1    30      3748   93.0             5   3500.0   \n",
       "1     0      18         1    32      4598    9.0            12    900.0   \n",
       "2     0       0         1    26      5148    8.0             2   2400.0   \n",
       "3     0       0         1    36      5179   20.0            12   2700.0   \n",
       "4     0       0         1    46      3960    3.0             1   3100.0   \n",
       "\n",
       "    linea_sf  deuda_sf  score         zona  clasif_sbs  nivel_educ  \n",
       "0  121543.40       0.0    214         Lima           4           3  \n",
       "1    1824.67   1933.75    175  La Libertad           1           2  \n",
       "2    2797.38    188.29    187         Lima           0           3  \n",
       "3  121543.40       0.0    187       Ancash           0           2  \n",
       "4     2000.0  11010.65    189         Lima           0           2  "
      ]
     },
     "execution_count": 57,
     "metadata": {},
     "output_type": "execute_result"
    }
   ],
   "source": [
    "data.head()"
   ]
  },
  {
   "cell_type": "markdown",
   "id": "b3fd23c4",
   "metadata": {},
   "source": [
    "## Variable X y Y"
   ]
  },
  {
   "cell_type": "code",
   "execution_count": 59,
   "id": "e683d832",
   "metadata": {},
   "outputs": [
    {
     "data": {
      "text/plain": [
       "(8399, 12)"
      ]
     },
     "execution_count": 59,
     "metadata": {},
     "output_type": "execute_result"
    }
   ],
   "source": [
    "feature_cols = ['score', 'nivel_ahorro', 'atraso', 'clasif_sbs','dias_lab','edad','vivienda','exp_sf','ingreso','linea_sf','deuda_sf','nivel_educ']\n",
    "X = data[feature_cols] # features\n",
    "y = np.array(data['mora'])\n",
    "X.shape"
   ]
  },
  {
   "cell_type": "markdown",
   "id": "6c5b3df8",
   "metadata": {},
   "source": [
    "## Normalización"
   ]
  },
  {
   "cell_type": "code",
   "execution_count": 60,
   "id": "1af5f378",
   "metadata": {},
   "outputs": [],
   "source": [
    "# el escalador - para la normalización media\n",
    "from sklearn.preprocessing import StandardScaler, RobustScaler\n",
    "from sklearn.model_selection import train_test_split\n"
   ]
  },
  {
   "cell_type": "code",
   "execution_count": 61,
   "id": "e557e922",
   "metadata": {},
   "outputs": [
    {
     "data": {
      "text/plain": [
       "((5879, 12), (2520, 12))"
      ]
     },
     "execution_count": 61,
     "metadata": {},
     "output_type": "execute_result"
    }
   ],
   "source": [
    "# Vamos a separar los datos en un conjunto de entrenamiento y pruebas\n",
    "X_train, X_test, y_train, y_test = train_test_split(X,\n",
    "                                                    y,\n",
    "                                                    test_size=0.3,\n",
    "                                                    random_state=0)\n",
    "\n",
    "X_train.shape, X_test.shape"
   ]
  },
  {
   "cell_type": "code",
   "execution_count": 63,
   "id": "0f76b702",
   "metadata": {},
   "outputs": [
    {
     "name": "stderr",
     "output_type": "stream",
     "text": [
      "<ipython-input-63-472b08b4af87>:4: FutureWarning: Dropping of nuisance columns in DataFrame reductions (with 'numeric_only=None') is deprecated; in a future version this will raise TypeError.  Select only valid columns before calling the reduction.\n",
      "  means = X_train.mean(axis=0)\n"
     ]
    },
    {
     "data": {
      "text/plain": [
       "score            196.962579\n",
       "nivel_ahorro      10.603164\n",
       "atraso             4.571186\n",
       "clasif_sbs         0.565913\n",
       "dias_lab        5573.631060\n",
       "edad              36.478993\n",
       "vivienda           1.262800\n",
       "ingreso         4412.362305\n",
       "nivel_educ         2.509100\n",
       "dtype: float64"
      ]
     },
     "execution_count": 63,
     "metadata": {},
     "output_type": "execute_result"
    }
   ],
   "source": [
    "'''\n",
    "    Normalización media con pandas\n",
    "'''\n",
    "means = X_train.mean(axis=0)\n",
    "means"
   ]
  },
  {
   "cell_type": "code",
   "execution_count": 64,
   "id": "d8d317e8",
   "metadata": {},
   "outputs": [
    {
     "name": "stderr",
     "output_type": "stream",
     "text": [
      "<ipython-input-64-b6b90b64269d>:4: FutureWarning: Dropping of nuisance columns in DataFrame reductions (with 'numeric_only=None') is deprecated; in a future version this will raise TypeError.  Select only valid columns before calling the reduction.\n",
      "  ranges = X_train.max(axis=0)-X_train.min(axis=0)\n"
     ]
    },
    {
     "data": {
      "text/plain": [
       "score             132.0\n",
       "nivel_ahorro       12.0\n",
       "atraso            245.0\n",
       "clasif_sbs          4.0\n",
       "dias_lab        17744.0\n",
       "edad               65.0\n",
       "vivienda            2.0\n",
       "ingreso         29876.3\n",
       "nivel_educ          3.0\n",
       "dtype: float64"
      ]
     },
     "execution_count": 64,
     "metadata": {},
     "output_type": "execute_result"
    }
   ],
   "source": [
    "# aprendamos ahora los valores mínimos y máximos, y el rango de valores \n",
    "# del conjunto de train\n",
    "\n",
    "ranges = X_train.max(axis=0)-X_train.min(axis=0)\n",
    "ranges"
   ]
  },
  {
   "cell_type": "code",
   "execution_count": 65,
   "id": "e334d5cd",
   "metadata": {},
   "outputs": [],
   "source": [
    "# ahora estamos listos para realizar la normalización media:\n",
    "\n",
    "X_train_scaled = (X_train - means) / ranges\n",
    "X_test_scaled = (X_test - means) / ranges"
   ]
  },
  {
   "cell_type": "code",
   "execution_count": 67,
   "id": "7991c9c6",
   "metadata": {},
   "outputs": [
    {
     "data": {
      "text/html": [
       "<div>\n",
       "<style scoped>\n",
       "    .dataframe tbody tr th:only-of-type {\n",
       "        vertical-align: middle;\n",
       "    }\n",
       "\n",
       "    .dataframe tbody tr th {\n",
       "        vertical-align: top;\n",
       "    }\n",
       "\n",
       "    .dataframe thead th {\n",
       "        text-align: right;\n",
       "    }\n",
       "</style>\n",
       "<table border=\"1\" class=\"dataframe\">\n",
       "  <thead>\n",
       "    <tr style=\"text-align: right;\">\n",
       "      <th></th>\n",
       "      <th>score</th>\n",
       "      <th>nivel_ahorro</th>\n",
       "      <th>atraso</th>\n",
       "      <th>clasif_sbs</th>\n",
       "      <th>dias_lab</th>\n",
       "      <th>edad</th>\n",
       "      <th>vivienda</th>\n",
       "      <th>ingreso</th>\n",
       "      <th>nivel_educ</th>\n",
       "    </tr>\n",
       "  </thead>\n",
       "  <tbody>\n",
       "    <tr>\n",
       "      <th>count</th>\n",
       "      <td>5879.0</td>\n",
       "      <td>5879.0</td>\n",
       "      <td>5879.0</td>\n",
       "      <td>5879.0</td>\n",
       "      <td>5879.0</td>\n",
       "      <td>5879.0</td>\n",
       "      <td>5879.0</td>\n",
       "      <td>5879.0</td>\n",
       "      <td>5879.0</td>\n",
       "    </tr>\n",
       "    <tr>\n",
       "      <th>mean</th>\n",
       "      <td>197.0</td>\n",
       "      <td>10.6</td>\n",
       "      <td>4.6</td>\n",
       "      <td>0.6</td>\n",
       "      <td>5573.6</td>\n",
       "      <td>36.5</td>\n",
       "      <td>1.3</td>\n",
       "      <td>4412.4</td>\n",
       "      <td>2.5</td>\n",
       "    </tr>\n",
       "    <tr>\n",
       "      <th>std</th>\n",
       "      <td>19.5</td>\n",
       "      <td>3.4</td>\n",
       "      <td>15.3</td>\n",
       "      <td>0.9</td>\n",
       "      <td>2160.3</td>\n",
       "      <td>9.9</td>\n",
       "      <td>0.5</td>\n",
       "      <td>5452.0</td>\n",
       "      <td>0.7</td>\n",
       "    </tr>\n",
       "    <tr>\n",
       "      <th>min</th>\n",
       "      <td>134.0</td>\n",
       "      <td>0.0</td>\n",
       "      <td>0.0</td>\n",
       "      <td>0.0</td>\n",
       "      <td>2956.0</td>\n",
       "      <td>20.0</td>\n",
       "      <td>0.0</td>\n",
       "      <td>123.7</td>\n",
       "      <td>0.0</td>\n",
       "    </tr>\n",
       "    <tr>\n",
       "      <th>25%</th>\n",
       "      <td>182.0</td>\n",
       "      <td>12.0</td>\n",
       "      <td>0.0</td>\n",
       "      <td>0.0</td>\n",
       "      <td>4174.0</td>\n",
       "      <td>29.0</td>\n",
       "      <td>1.0</td>\n",
       "      <td>1370.8</td>\n",
       "      <td>2.0</td>\n",
       "    </tr>\n",
       "    <tr>\n",
       "      <th>50%</th>\n",
       "      <td>197.0</td>\n",
       "      <td>12.0</td>\n",
       "      <td>0.0</td>\n",
       "      <td>0.0</td>\n",
       "      <td>4935.0</td>\n",
       "      <td>34.0</td>\n",
       "      <td>1.0</td>\n",
       "      <td>2422.6</td>\n",
       "      <td>3.0</td>\n",
       "    </tr>\n",
       "    <tr>\n",
       "      <th>75%</th>\n",
       "      <td>212.0</td>\n",
       "      <td>12.0</td>\n",
       "      <td>2.0</td>\n",
       "      <td>1.0</td>\n",
       "      <td>6274.0</td>\n",
       "      <td>42.0</td>\n",
       "      <td>2.0</td>\n",
       "      <td>5000.0</td>\n",
       "      <td>3.0</td>\n",
       "    </tr>\n",
       "    <tr>\n",
       "      <th>max</th>\n",
       "      <td>266.0</td>\n",
       "      <td>12.0</td>\n",
       "      <td>245.0</td>\n",
       "      <td>4.0</td>\n",
       "      <td>20700.0</td>\n",
       "      <td>85.0</td>\n",
       "      <td>2.0</td>\n",
       "      <td>30000.0</td>\n",
       "      <td>3.0</td>\n",
       "    </tr>\n",
       "  </tbody>\n",
       "</table>\n",
       "</div>"
      ],
      "text/plain": [
       "        score  nivel_ahorro  atraso  clasif_sbs  dias_lab    edad  vivienda  \\\n",
       "count  5879.0        5879.0  5879.0      5879.0    5879.0  5879.0    5879.0   \n",
       "mean    197.0          10.6     4.6         0.6    5573.6    36.5       1.3   \n",
       "std      19.5           3.4    15.3         0.9    2160.3     9.9       0.5   \n",
       "min     134.0           0.0     0.0         0.0    2956.0    20.0       0.0   \n",
       "25%     182.0          12.0     0.0         0.0    4174.0    29.0       1.0   \n",
       "50%     197.0          12.0     0.0         0.0    4935.0    34.0       1.0   \n",
       "75%     212.0          12.0     2.0         1.0    6274.0    42.0       2.0   \n",
       "max     266.0          12.0   245.0         4.0   20700.0    85.0       2.0   \n",
       "\n",
       "       ingreso  nivel_educ  \n",
       "count   5879.0      5879.0  \n",
       "mean    4412.4         2.5  \n",
       "std     5452.0         0.7  \n",
       "min      123.7         0.0  \n",
       "25%     1370.8         2.0  \n",
       "50%     2422.6         3.0  \n",
       "75%     5000.0         3.0  \n",
       "max    30000.0         3.0  "
      ]
     },
     "execution_count": 67,
     "metadata": {},
     "output_type": "execute_result"
    }
   ],
   "source": [
    "# echemos un vistazo al conjunto de datos de entrenamiento original: valores medios y mínimos, máximos\n",
    "# Uso np.round para reducir el número de decimales a 1.\n",
    "\n",
    "np.round(X_train.describe(), 1)"
   ]
  },
  {
   "cell_type": "code",
   "execution_count": 68,
   "id": "36acc480",
   "metadata": {},
   "outputs": [
    {
     "data": {
      "text/html": [
       "<div>\n",
       "<style scoped>\n",
       "    .dataframe tbody tr th:only-of-type {\n",
       "        vertical-align: middle;\n",
       "    }\n",
       "\n",
       "    .dataframe tbody tr th {\n",
       "        vertical-align: top;\n",
       "    }\n",
       "\n",
       "    .dataframe thead th {\n",
       "        text-align: right;\n",
       "    }\n",
       "</style>\n",
       "<table border=\"1\" class=\"dataframe\">\n",
       "  <thead>\n",
       "    <tr style=\"text-align: right;\">\n",
       "      <th></th>\n",
       "      <th>atraso</th>\n",
       "      <th>clasif_sbs</th>\n",
       "      <th>dias_lab</th>\n",
       "      <th>edad</th>\n",
       "      <th>ingreso</th>\n",
       "      <th>nivel_ahorro</th>\n",
       "      <th>nivel_educ</th>\n",
       "      <th>score</th>\n",
       "      <th>vivienda</th>\n",
       "    </tr>\n",
       "  </thead>\n",
       "  <tbody>\n",
       "    <tr>\n",
       "      <th>count</th>\n",
       "      <td>5879.0</td>\n",
       "      <td>5879.0</td>\n",
       "      <td>5879.0</td>\n",
       "      <td>5879.0</td>\n",
       "      <td>5879.0</td>\n",
       "      <td>5879.0</td>\n",
       "      <td>5879.0</td>\n",
       "      <td>5879.0</td>\n",
       "      <td>5879.0</td>\n",
       "    </tr>\n",
       "    <tr>\n",
       "      <th>mean</th>\n",
       "      <td>0.0</td>\n",
       "      <td>0.0</td>\n",
       "      <td>0.0</td>\n",
       "      <td>0.0</td>\n",
       "      <td>-0.0</td>\n",
       "      <td>0.0</td>\n",
       "      <td>0.0</td>\n",
       "      <td>0.0</td>\n",
       "      <td>0.0</td>\n",
       "    </tr>\n",
       "    <tr>\n",
       "      <th>std</th>\n",
       "      <td>0.1</td>\n",
       "      <td>0.2</td>\n",
       "      <td>0.1</td>\n",
       "      <td>0.2</td>\n",
       "      <td>0.2</td>\n",
       "      <td>0.3</td>\n",
       "      <td>0.2</td>\n",
       "      <td>0.1</td>\n",
       "      <td>0.2</td>\n",
       "    </tr>\n",
       "    <tr>\n",
       "      <th>min</th>\n",
       "      <td>-0.0</td>\n",
       "      <td>-0.1</td>\n",
       "      <td>-0.1</td>\n",
       "      <td>-0.3</td>\n",
       "      <td>-0.1</td>\n",
       "      <td>-0.9</td>\n",
       "      <td>-0.8</td>\n",
       "      <td>-0.5</td>\n",
       "      <td>-0.6</td>\n",
       "    </tr>\n",
       "    <tr>\n",
       "      <th>25%</th>\n",
       "      <td>-0.0</td>\n",
       "      <td>-0.1</td>\n",
       "      <td>-0.1</td>\n",
       "      <td>-0.1</td>\n",
       "      <td>-0.1</td>\n",
       "      <td>0.1</td>\n",
       "      <td>-0.2</td>\n",
       "      <td>-0.1</td>\n",
       "      <td>-0.1</td>\n",
       "    </tr>\n",
       "    <tr>\n",
       "      <th>50%</th>\n",
       "      <td>-0.0</td>\n",
       "      <td>-0.1</td>\n",
       "      <td>-0.0</td>\n",
       "      <td>-0.0</td>\n",
       "      <td>-0.1</td>\n",
       "      <td>0.1</td>\n",
       "      <td>0.2</td>\n",
       "      <td>0.0</td>\n",
       "      <td>-0.1</td>\n",
       "    </tr>\n",
       "    <tr>\n",
       "      <th>75%</th>\n",
       "      <td>-0.0</td>\n",
       "      <td>0.1</td>\n",
       "      <td>0.0</td>\n",
       "      <td>0.1</td>\n",
       "      <td>0.0</td>\n",
       "      <td>0.1</td>\n",
       "      <td>0.2</td>\n",
       "      <td>0.1</td>\n",
       "      <td>0.4</td>\n",
       "    </tr>\n",
       "    <tr>\n",
       "      <th>max</th>\n",
       "      <td>1.0</td>\n",
       "      <td>0.9</td>\n",
       "      <td>0.9</td>\n",
       "      <td>0.7</td>\n",
       "      <td>0.9</td>\n",
       "      <td>0.1</td>\n",
       "      <td>0.2</td>\n",
       "      <td>0.5</td>\n",
       "      <td>0.4</td>\n",
       "    </tr>\n",
       "  </tbody>\n",
       "</table>\n",
       "</div>"
      ],
      "text/plain": [
       "       atraso  clasif_sbs  dias_lab    edad  ingreso  nivel_ahorro  \\\n",
       "count  5879.0      5879.0    5879.0  5879.0   5879.0        5879.0   \n",
       "mean      0.0         0.0       0.0     0.0     -0.0           0.0   \n",
       "std       0.1         0.2       0.1     0.2      0.2           0.3   \n",
       "min      -0.0        -0.1      -0.1    -0.3     -0.1          -0.9   \n",
       "25%      -0.0        -0.1      -0.1    -0.1     -0.1           0.1   \n",
       "50%      -0.0        -0.1      -0.0    -0.0     -0.1           0.1   \n",
       "75%      -0.0         0.1       0.0     0.1      0.0           0.1   \n",
       "max       1.0         0.9       0.9     0.7      0.9           0.1   \n",
       "\n",
       "       nivel_educ   score  vivienda  \n",
       "count      5879.0  5879.0    5879.0  \n",
       "mean          0.0     0.0       0.0  \n",
       "std           0.2     0.1       0.2  \n",
       "min          -0.8    -0.5      -0.6  \n",
       "25%          -0.2    -0.1      -0.1  \n",
       "50%           0.2     0.0      -0.1  \n",
       "75%           0.2     0.1       0.4  \n",
       "max           0.2     0.5       0.4  "
      ]
     },
     "execution_count": 68,
     "metadata": {},
     "output_type": "execute_result"
    }
   ],
   "source": [
    "# echemos un vistazo al conjunto de datos de entrenamiento a escala: valores medios y mínimos, máximos\n",
    "# Uso np.round para reducir el número de decimales a 1.\n",
    "\n",
    "np.round(X_train_scaled.describe(), 1)"
   ]
  },
  {
   "cell_type": "markdown",
   "id": "7e6a6b15",
   "metadata": {},
   "source": [
    "Como era de esperar, la media de cada variable, que no estaba centrada en cero, ahora está alrededor de cero y los valores mínimo y máximo varían aproximadamente entre -1 y 1. Tenga en cuenta, sin embargo, que las desviaciones estándar varían según la dispersión de la variable. comenzar y está muy influenciado por la presencia de valores atípicos."
   ]
  },
  {
   "cell_type": "code",
   "execution_count": 69,
   "id": "7b5c2718",
   "metadata": {},
   "outputs": [
    {
     "data": {
      "image/png": "[encoded data removed]",
      "text/plain": [
       "<Figure size 864x360 with 2 Axes>"
      ]
     },
     "metadata": {
      "needs_background": "light"
     },
     "output_type": "display_data"
    }
   ],
   "source": [
    "#Librería\n",
    "import seaborn as sns\n",
    "\n",
    "# comparemos las distribuciones de variables antes y después de escalar\n",
    "\n",
    "fig, (ax1, ax2) = plt.subplots(ncols=2, figsize=(12, 5))\n",
    "\n",
    "# before scaling\n",
    "ax1.set_title('Before Scaling')\n",
    "sns.kdeplot(X_train['score'], ax=ax1)\n",
    "sns.kdeplot(X_train['nivel_ahorro'], ax=ax1)\n",
    "sns.kdeplot(X_train['atraso'], ax=ax1)\n",
    "sns.kdeplot(X_train['clasif_sbs'], ax=ax1)\n",
    "\n",
    "\n",
    "# after scaling\n",
    "ax2.set_title('After Mean Normalisation')\n",
    "sns.kdeplot(X_train_scaled['score'], ax=ax2)\n",
    "sns.kdeplot(X_train_scaled['nivel_ahorro'], ax=ax2)\n",
    "sns.kdeplot(X_train_scaled['atraso'], ax=ax2)\n",
    "sns.kdeplot(X_train_scaled['clasif_sbs'], ax=ax2)\n",
    "plt.show()\n",
    "\n"
   ]
  },
  {
   "cell_type": "markdown",
   "id": "73a8a9d8",
   "metadata": {},
   "source": [
    "## Entrenar un modelo de clasificador de bosque aleatorio"
   ]
  },
  {
   "cell_type": "code",
   "execution_count": 71,
   "id": "2a599f60",
   "metadata": {},
   "outputs": [
    {
     "data": {
      "text/html": [
       "<div>\n",
       "<style scoped>\n",
       "    .dataframe tbody tr th:only-of-type {\n",
       "        vertical-align: middle;\n",
       "    }\n",
       "\n",
       "    .dataframe tbody tr th {\n",
       "        vertical-align: top;\n",
       "    }\n",
       "\n",
       "    .dataframe thead th {\n",
       "        text-align: right;\n",
       "    }\n",
       "</style>\n",
       "<table border=\"1\" class=\"dataframe\">\n",
       "  <thead>\n",
       "    <tr style=\"text-align: right;\">\n",
       "      <th></th>\n",
       "      <th>Details</th>\n",
       "    </tr>\n",
       "  </thead>\n",
       "  <tbody>\n",
       "    <tr>\n",
       "      <th>Machine Learning Classification Method</th>\n",
       "      <td>Random Forest Classifier</td>\n",
       "    </tr>\n",
       "    <tr>\n",
       "      <th>Train Accuracy</th>\n",
       "      <td>0.787889</td>\n",
       "    </tr>\n",
       "    <tr>\n",
       "      <th>Test Accuracy</th>\n",
       "      <td>0.755952</td>\n",
       "    </tr>\n",
       "    <tr>\n",
       "      <th>Top 1 Feature Predictor</th>\n",
       "      <td>exp_sf</td>\n",
       "    </tr>\n",
       "    <tr>\n",
       "      <th>Top 2 Feature Predictor</th>\n",
       "      <td>ingreso</td>\n",
       "    </tr>\n",
       "    <tr>\n",
       "      <th>Top 3 Feature Predictor</th>\n",
       "      <td>score</td>\n",
       "    </tr>\n",
       "    <tr>\n",
       "      <th>Top 4 Feature Predictor</th>\n",
       "      <td>dias_lab</td>\n",
       "    </tr>\n",
       "    <tr>\n",
       "      <th>Top 5 Feature Predictor</th>\n",
       "      <td>nivel_ahorro</td>\n",
       "    </tr>\n",
       "  </tbody>\n",
       "</table>\n",
       "</div>"
      ],
      "text/plain": [
       "                                                         Details\n",
       "Machine Learning Classification Method  Random Forest Classifier\n",
       "Train Accuracy                                          0.787889\n",
       "Test Accuracy                                           0.755952\n",
       "Top 1 Feature Predictor                                   exp_sf\n",
       "Top 2 Feature Predictor                                  ingreso\n",
       "Top 3 Feature Predictor                                    score\n",
       "Top 4 Feature Predictor                                 dias_lab\n",
       "Top 5 Feature Predictor                             nivel_ahorro"
      ]
     },
     "metadata": {},
     "output_type": "display_data"
    }
   ],
   "source": [
    "from sklearn.model_selection import train_test_split\n",
    "from sklearn.ensemble import RandomForestClassifier\n",
    "RF = RandomForestClassifier(max_depth=7, n_estimators=100)\n",
    "RF.fit(X_train, y_train)\n",
    "y_pred_RF= RF.predict(X_test)\n",
    "\n",
    "df = pd.DataFrame()\n",
    "\n",
    "cols = ['Machine Learning Classification Method',\n",
    "        'Train Accuracy', \n",
    "        'Test Accuracy', \n",
    "        \"Top 1 Feature Predictor\",\n",
    "        \"Top 2 Feature Predictor\",\n",
    "        \"Top 3 Feature Predictor\",\n",
    "        \"Top 4 Feature Predictor\",\n",
    "        \"Top 5 Feature Predictor\"]\n",
    "\n",
    "df.loc['Machine Learning Classification Method', \n",
    "       'Details'] = 'Random Forest Classifier'\n",
    "df.loc['Train Accuracy', 'Details'] = RF.score(X_train, y_train) \n",
    "df.loc['Test Accuracy', 'Details'] = RF.score(X_test, y_test)\n",
    "\n",
    "feature_importances = X.columns[np.argsort(RF.feature_importances_)][-5:]\n",
    "df.loc['Top 1 Feature Predictor', 'Details'] = feature_importances[4]\n",
    "df.loc['Top 2 Feature Predictor', 'Details'] = feature_importances[3]\n",
    "df.loc['Top 3 Feature Predictor', 'Details'] = feature_importances[2]\n",
    "df.loc['Top 4 Feature Predictor', 'Details'] = feature_importances[1]\n",
    "df.loc['Top 5 Feature Predictor', 'Details'] = feature_importances[0]\n",
    "\n",
    "display(df)"
   ]
  }
 ],
 "metadata": {
  "kernelspec": {
   "display_name": "Python 3",
   "language": "python",
   "name": "python3"
  },
  "language_info": {
   "codemirror_mode": {
    "name": "ipython",
    "version": 3
   },
   "file_extension": ".py",
   "mimetype": "text/x-python",
   "name": "python",
   "nbconvert_exporter": "python",
   "pygments_lexer": "ipython3",
   "version": "3.8.11"
  }
 },
 "nbformat": 4,
 "nbformat_minor": 5
}
